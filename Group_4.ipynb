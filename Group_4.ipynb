{
 "cells": [
  {
   "cell_type": "code",
   "execution_count": 1,
   "metadata": {},
   "outputs": [],
   "source": [
    "#Q 1"
   ]
  },
  {
   "cell_type": "code",
   "execution_count": 2,
   "metadata": {},
   "outputs": [
    {
     "name": "stdout",
     "output_type": "stream",
     "text": [
      "Enter a number:25\n",
      "the square root of 25.0 is 5.0 \n"
     ]
    }
   ],
   "source": [
    "n = float(input(\"Enter a number:\"))\n",
    "n_sqrt = n**0.5\n",
    "print(\"the square root of {} is {} \".format(n,n_sqrt))"
   ]
  },
  {
   "cell_type": "code",
   "execution_count": 3,
   "metadata": {},
   "outputs": [],
   "source": [
    "#Q.2"
   ]
  },
  {
   "cell_type": "code",
   "execution_count": 4,
   "metadata": {},
   "outputs": [
    {
     "name": "stdout",
     "output_type": "stream",
     "text": [
      "Enter value of x: 2\n",
      "They are unequal\n",
      "They are unequal\n",
      "They are equal\n",
      "They are unequal\n",
      "They are unequal\n",
      "They are unequal\n",
      "They are unequal\n",
      "They are unequal\n",
      "They are unequal\n",
      "They are unequal\n"
     ]
    }
   ],
   "source": [
    "x = int(input(\"Enter value of x: \"))\n",
    "for y in range(0, 10):\n",
    "    if x == y:\n",
    "        print(\"They are equal\")\n",
    "    else:\n",
    "        print(\"They are unequal\")"
   ]
  },
  {
   "cell_type": "code",
   "execution_count": 5,
   "metadata": {},
   "outputs": [],
   "source": [
    "#Q.3"
   ]
  },
  {
   "cell_type": "code",
   "execution_count": 6,
   "metadata": {},
   "outputs": [
    {
     "name": "stdout",
     "output_type": "stream",
     "text": [
      "0\n"
     ]
    }
   ],
   "source": [
    "a, b = 0,0\n",
    "if a == b:\n",
    "    c = a + b\n",
    "    print(c)"
   ]
  },
  {
   "cell_type": "code",
   "execution_count": 7,
   "metadata": {},
   "outputs": [],
   "source": [
    "#Q.4"
   ]
  },
  {
   "cell_type": "code",
   "execution_count": 8,
   "metadata": {},
   "outputs": [
    {
     "name": "stdout",
     "output_type": "stream",
     "text": [
      "250\n",
      "500\n",
      "750\n",
      "feefeefee\n",
      "feefeefeefee\n",
      "feefeefeefeefee\n",
      "feefeefeefeefeefee\n",
      "feefeefeefeefeefeefee\n"
     ]
    }
   ],
   "source": [
    "fee = 250\n",
    "i = 0\n",
    "while fee <= 2000:\n",
    "    if fee <= 750:\n",
    "        print(fee)\n",
    "    else:\n",
    "        print(\"fee\" * i)\n",
    "    i = i + 1\n",
    "    fee = fee + 250"
   ]
  },
  {
   "cell_type": "code",
   "execution_count": 9,
   "metadata": {},
   "outputs": [],
   "source": [
    "#Q.5"
   ]
  },
  {
   "cell_type": "code",
   "execution_count": 10,
   "metadata": {},
   "outputs": [
    {
     "name": "stdout",
     "output_type": "stream",
     "text": [
      "1\n",
      "0\n",
      "3\n",
      "2\n",
      "5\n",
      "4\n",
      "7\n",
      "6\n",
      "9\n",
      "8\n"
     ]
    }
   ],
   "source": [
    "step = 10\n",
    "for e in range(0, step):\n",
    "    if e % 2 == 0:\n",
    "        print(e + 1)\n",
    "    else:\n",
    "        print(e - 1)"
   ]
  },
  {
   "cell_type": "code",
   "execution_count": 11,
   "metadata": {},
   "outputs": [],
   "source": [
    "#Q.6"
   ]
  },
  {
   "cell_type": "code",
   "execution_count": 12,
   "metadata": {},
   "outputs": [
    {
     "name": "stdout",
     "output_type": "stream",
     "text": [
      "c\n",
      "o\n",
      "m\n",
      "e\n",
      " \n",
      "t\n"
     ]
    }
   ],
   "source": [
    "str = \"welcome to symbiosis\"\n",
    "for s in range(3, 9):\n",
    "    print(str[s])"
   ]
  },
  {
   "cell_type": "code",
   "execution_count": 13,
   "metadata": {},
   "outputs": [],
   "source": [
    "#Q.7"
   ]
  },
  {
   "cell_type": "code",
   "execution_count": 14,
   "metadata": {},
   "outputs": [
    {
     "name": "stdout",
     "output_type": "stream",
     "text": [
      "hello all\n"
     ]
    }
   ],
   "source": [
    "print(\"hello all\")\n",
    "for i in range(2,5):\n",
    "    for j in range(1,10):\n",
    "        def title():\n",
    "            if i <=5:\n",
    "                pass"
   ]
  },
  {
   "cell_type": "code",
   "execution_count": 15,
   "metadata": {},
   "outputs": [],
   "source": [
    "#Q.8"
   ]
  },
  {
   "cell_type": "code",
   "execution_count": 16,
   "metadata": {},
   "outputs": [
    {
     "name": "stdout",
     "output_type": "stream",
     "text": [
      "A\n",
      "A\n",
      "A\n",
      "A\n",
      "A\n",
      "A\n",
      "A\n",
      "A\n"
     ]
    }
   ],
   "source": [
    "L = [1, 2, 3, 4, 5, 6, 'e', 'f']\n",
    "for i in L:\n",
    "    if i == 'a':\n",
    "        break\n",
    "    else:\n",
    "        print(\"A\")"
   ]
  },
  {
   "cell_type": "code",
   "execution_count": 18,
   "metadata": {},
   "outputs": [],
   "source": [
    "# Q.9"
   ]
  },
  {
   "cell_type": "code",
   "execution_count": 19,
   "metadata": {},
   "outputs": [
    {
     "name": "stdout",
     "output_type": "stream",
     "text": [
      "anu\n"
     ]
    }
   ],
   "source": [
    "a = {6: 'anu', 'sumit': 7, 5: \"me\"}\n",
    "for i in a:\n",
    "    if isinstance(i,int) and i % 3 == 0:\n",
    "        print(a[i])"
   ]
  },
  {
   "cell_type": "code",
   "execution_count": 20,
   "metadata": {},
   "outputs": [],
   "source": [
    "# Q.10"
   ]
  },
  {
   "cell_type": "code",
   "execution_count": 21,
   "metadata": {},
   "outputs": [
    {
     "name": "stdout",
     "output_type": "stream",
     "text": [
      "notmaiden\n",
      "notmaiden\n",
      "notmaiden\n",
      "notmaiden\n",
      "maiden\n",
      "notmaiden\n"
     ]
    }
   ],
   "source": [
    "runs = [1, 6, 7, 8, 0, 99]\n",
    "for i in runs:\n",
    "    if i == 0:\n",
    "        print(\"maiden\")\n",
    "    else:\n",
    "        print(\"notmaiden\")"
   ]
  },
  {
   "cell_type": "code",
   "execution_count": 22,
   "metadata": {},
   "outputs": [],
   "source": [
    "# Q.11"
   ]
  },
  {
   "cell_type": "code",
   "execution_count": 23,
   "metadata": {},
   "outputs": [
    {
     "name": "stdout",
     "output_type": "stream",
     "text": [
      "Enter a string to find its position in the list: banana\n",
      "The position of 'banana' in the list is: 1\n"
     ]
    }
   ],
   "source": [
    "def find_position(user_input, string_list):\n",
    "    try:\n",
    "        position = string_list.index(user_input)\n",
    "        print(f\"The position of '{user_input}' in the list is: {position}\")\n",
    "    except ValueError:\n",
    "        print(f\"'{user_input}' not found in the list.\")\n",
    "\n",
    "given_list = [\"apple\", \"banana\", \"orange\", \"grape\"]\n",
    "user_string = input(\"Enter a string to find its position in the list: \")\n",
    "find_position(user_string, given_list)"
   ]
  },
  {
   "cell_type": "code",
   "execution_count": 24,
   "metadata": {},
   "outputs": [],
   "source": [
    "# Q.12"
   ]
  },
  {
   "cell_type": "code",
   "execution_count": 25,
   "metadata": {},
   "outputs": [
    {
     "name": "stdout",
     "output_type": "stream",
     "text": [
      "Enter a string: akash\n",
      "Word count dictionary: {'akash': 1}\n"
     ]
    }
   ],
   "source": [
    "def count_words(input_string):\n",
    "    word_count = {}\n",
    "    words = input_string.split()\n",
    "\n",
    "    for word in words:\n",
    "        word_count[word] = word_count.get(word, 0) + 1\n",
    "\n",
    "    return word_count\n",
    "\n",
    "user_input_string = input(\"Enter a string: \")\n",
    "result = count_words(user_input_string)\n",
    "print(\"Word count dictionary:\",result)"
   ]
  },
  {
   "cell_type": "raw",
   "metadata": {},
   "source": [
    "Q.13"
   ]
  },
  {
   "cell_type": "code",
   "execution_count": 31,
   "metadata": {},
   "outputs": [],
   "source": [
    "class Mobile():\n",
    "    def _init_(self, owner, brand, color, camera_pixel):\n",
    "        self.owner = owner\n",
    "        self.brand = brand\n",
    "        self.color = color\n",
    "        self.camera_pixel = camera_pixel\n",
    "\n",
    "    def display(self):\n",
    "        print(f\"Mobile Owner: {self.owner}\\nBrand: {self.brand}\\nColor: {self.color}\\nCamera Pixel: {self.camera_pixel}\")\n",
    "\n"
   ]
  },
  {
   "cell_type": "code",
   "execution_count": 27,
   "metadata": {},
   "outputs": [],
   "source": [
    "# Q.14"
   ]
  },
  {
   "cell_type": "code",
   "execution_count": 28,
   "metadata": {},
   "outputs": [
    {
     "name": "stdout",
     "output_type": "stream",
     "text": [
      "Converted list: ['ALL', 'is', 'well']\n"
     ]
    }
   ],
   "source": [
    "str1 = \"ALL is well\"\n",
    "str_list = str1.split()\n",
    "print(\"Converted list:\", str_list)"
   ]
  },
  {
   "cell_type": "code",
   "execution_count": 29,
   "metadata": {},
   "outputs": [],
   "source": [
    "# Q.15"
   ]
  },
  {
   "cell_type": "code",
   "execution_count": 30,
   "metadata": {},
   "outputs": [
    {
     "name": "stdout",
     "output_type": "stream",
     "text": [
      "Original list: [1, 2, 3, 4, 5]\n",
      "Squared list: [1, 4, 9, 16, 25]\n"
     ]
    }
   ],
   "source": [
    "original_list = [1, 2, 3, 4, 5]\n",
    "squared_list = [x**2 for x in original_list]\n",
    "print(\"Original list:\", original_list)\n",
    "print(\"Squared list:\", squared_list)"
   ]
  },
  {
   "cell_type": "code",
   "execution_count": null,
   "metadata": {},
   "outputs": [],
   "source": []
  }
 ],
 "metadata": {
  "kernelspec": {
   "display_name": "Python 3",
   "language": "python",
   "name": "python3"
  },
  "language_info": {
   "codemirror_mode": {
    "name": "ipython",
    "version": 3
   },
   "file_extension": ".py",
   "mimetype": "text/x-python",
   "name": "python",
   "nbconvert_exporter": "python",
   "pygments_lexer": "ipython3",
   "version": "3.8.5"
  }
 },
 "nbformat": 4,
 "nbformat_minor": 4
}
